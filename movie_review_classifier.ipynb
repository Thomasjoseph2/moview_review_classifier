{
  "cells": [
    {
      "cell_type": "markdown",
      "metadata": {
        "id": "view-in-github",
        "colab_type": "text"
      },
      "source": [
        "<a href=\"https://colab.research.google.com/github/Thomasjoseph2/moview_review_classifier/blob/main/movie_review_classifier.ipynb\" target=\"_parent\"><img src=\"https://colab.research.google.com/assets/colab-badge.svg\" alt=\"Open In Colab\"/></a>"
      ]
    },
    {
      "cell_type": "code",
      "execution_count": 1,
      "metadata": {
        "id": "DwHns97ILiIz"
      },
      "outputs": [],
      "source": [
        "   # Import required libraries\n",
        "import os\n",
        "import string\n",
        "import pandas as pd\n",
        "import nltk\n",
        "from nltk.corpus import stopwords\n",
        "from nltk.tokenize import word_tokenize\n",
        "from nltk.stem import PorterStemmer\n",
        "from sklearn.feature_extraction.text import TfidfVectorizer\n",
        "from sklearn.model_selection import train_test_split\n",
        "from sklearn.linear_model import LogisticRegression\n",
        "from sklearn.metrics import accuracy_score\n",
        "from sklearn.ensemble import RandomForestClassifier\n",
        "from sklearn.model_selection import GridSearchCV\n"
      ]
    },
    {
      "cell_type": "code",
      "execution_count": 2,
      "metadata": {
        "colab": {
          "base_uri": "https://localhost:8080/"
        },
        "id": "6ABQ5iSfPlKC",
        "outputId": "800444d0-76d7-42fe-e1a6-76a397bc7fb1"
      },
      "outputs": [
        {
          "output_type": "stream",
          "name": "stdout",
          "text": [
            "--2024-07-03 14:06:38--  https://ai.stanford.edu/~amaas/data/sentiment/aclImdb_v1.tar.gz\n",
            "Resolving ai.stanford.edu (ai.stanford.edu)... 171.64.68.10\n",
            "Connecting to ai.stanford.edu (ai.stanford.edu)|171.64.68.10|:443... connected.\n",
            "HTTP request sent, awaiting response... 200 OK\n",
            "Length: 84125825 (80M) [application/x-gzip]\n",
            "Saving to: ‘aclImdb_v1.tar.gz’\n",
            "\n",
            "aclImdb_v1.tar.gz   100%[===================>]  80.23M  9.63MB/s    in 8.2s    \n",
            "\n",
            "2024-07-03 14:06:46 (9.74 MB/s) - ‘aclImdb_v1.tar.gz’ saved [84125825/84125825]\n",
            "\n"
          ]
        }
      ],
      "source": [
        "# loding data\n",
        "!wget https://ai.stanford.edu/~amaas/data/sentiment/aclImdb_v1.tar.gz\n",
        "!tar -xf aclImdb_v1.tar.gz\n"
      ]
    },
    {
      "cell_type": "code",
      "execution_count": 3,
      "metadata": {
        "colab": {
          "base_uri": "https://localhost:8080/"
        },
        "id": "TD0alCnlpyq0",
        "outputId": "a712ccb9-5045-44d1-a7e5-619e21e35005"
      },
      "outputs": [
        {
          "output_type": "stream",
          "name": "stderr",
          "text": [
            "[nltk_data] Downloading package stopwords to /root/nltk_data...\n",
            "[nltk_data]   Unzipping corpora/stopwords.zip.\n",
            "[nltk_data] Downloading package punkt to /root/nltk_data...\n",
            "[nltk_data]   Unzipping tokenizers/punkt.zip.\n"
          ]
        },
        {
          "output_type": "execute_result",
          "data": {
            "text/plain": [
              "True"
            ]
          },
          "metadata": {},
          "execution_count": 3
        }
      ],
      "source": [
        "# Download required NLTK resources\n",
        "nltk.download('stopwords')\n",
        "nltk.download('punkt')"
      ]
    },
    {
      "cell_type": "code",
      "execution_count": 4,
      "metadata": {
        "id": "V0vLfkIppzXe"
      },
      "outputs": [],
      "source": [
        "# Define stopwords and stemmer\n",
        "stop_words = set(stopwords.words('english'))\n",
        "stemmer = PorterStemmer()"
      ]
    },
    {
      "cell_type": "markdown",
      "metadata": {
        "id": "3vWqpvr_eQzX"
      },
      "source": []
    },
    {
      "cell_type": "code",
      "execution_count": 5,
      "metadata": {
        "id": "38ftZDNhp2XY"
      },
      "outputs": [],
      "source": [
        "# Function to clean and process text\n",
        "def clean_text(text):\n",
        "    text = text.lower()\n",
        "    text = \"\".join([char for char in text if char not in string.punctuation])\n",
        "    tokens = word_tokenize(text)\n",
        "    filtered_tokens = [stemmer.stem(token) for token in tokens if token not in stop_words]\n",
        "    return \" \".join(filtered_tokens)"
      ]
    },
    {
      "cell_type": "code",
      "execution_count": 6,
      "metadata": {
        "id": "OH-zV-mep56I"
      },
      "outputs": [],
      "source": [
        "# Function to load data from a folder into a DataFrame\n",
        "def load_data_from_folder(folder_path, label):\n",
        "    file_paths = [os.path.join(folder_path, filename) for filename in os.listdir(folder_path)]\n",
        "    reviews = [open(file_path, 'r', encoding='utf-8').read() for file_path in file_paths]\n",
        "    df = pd.DataFrame({'review': reviews, 'label': label})\n",
        "    return df"
      ]
    },
    {
      "cell_type": "code",
      "source": [],
      "metadata": {
        "id": "PFfGIO5q8Kh1"
      },
      "execution_count": null,
      "outputs": []
    },
    {
      "cell_type": "code",
      "execution_count": 7,
      "metadata": {
        "id": "GOAc-6xOp_Ij"
      },
      "outputs": [],
      "source": [
        "#Load data into DataFrames\n",
        "pos_folder = os.path.join('aclImdb', 'train', 'pos')\n",
        "neg_folder = os.path.join('aclImdb', 'train', 'neg')\n",
        "\n",
        "#function call\n",
        "pos_df = load_data_from_folder(pos_folder, 1)\n",
        "neg_df = load_data_from_folder(neg_folder, 0)"
      ]
    },
    {
      "cell_type": "code",
      "execution_count": 8,
      "metadata": {
        "colab": {
          "base_uri": "https://localhost:8080/"
        },
        "id": "36Hq-IMDqFVZ",
        "outputId": "b9fb5533-be4a-4d91-d13e-1f643539c073"
      },
      "outputs": [
        {
          "output_type": "stream",
          "name": "stdout",
          "text": [
            "                                              review  label\n",
            "0  This is a hard-boiled Warner Brothers film sta...      1\n",
            "1  Robert Mitchum stars as Clint Tollinger in thi...      1\n",
            "2  Definitely one of the most witty and twisted w...      1\n",
            "3  I saw Dick Tracy when I was very young. I didn...      1\n",
            "4  When I was flicking through the TV Guide, and ...      1\n",
            "                                              review  label\n",
            "0  With a title \"borrowed\" from Werner Herzog and...      0\n",
            "1  My girlfriend once brought around The Zombie C...      0\n",
            "2  This is the most depressing film I have ever s...      0\n",
            "3  Eight academy nominations? It's beyond belief....      0\n",
            "4  'The Omen 4: The Awakening' is a made-for-tele...      0\n"
          ]
        }
      ],
      "source": [
        "print(pos_df.head())\n",
        "print(neg_df.head())"
      ]
    },
    {
      "cell_type": "code",
      "execution_count": 9,
      "metadata": {
        "id": "lgHBf4MsqRDh"
      },
      "outputs": [],
      "source": [
        "# Combine positive and negative DataFrames\n",
        "df = pd.concat([pos_df, neg_df], ignore_index=True)"
      ]
    },
    {
      "cell_type": "code",
      "execution_count": 10,
      "metadata": {
        "id": "xAoqbjSDqXmg"
      },
      "outputs": [],
      "source": [
        "# Clean text data\n",
        "df['cleaned_review'] = df['review'].apply(clean_text)"
      ]
    },
    {
      "cell_type": "code",
      "execution_count": 11,
      "metadata": {
        "id": "aUK8Kl37qm4-"
      },
      "outputs": [],
      "source": [
        "# Vectorize text data\n",
        "vectorizer = TfidfVectorizer(ngram_range=(1, 3))  # Use bigrams for richer feature extraction\n",
        "features = vectorizer.fit_transform(df['cleaned_review'])"
      ]
    },
    {
      "cell_type": "code",
      "execution_count": 13,
      "metadata": {
        "id": "ABOlvibTrfNY"
      },
      "outputs": [],
      "source": [
        "# Split data into training and testing sets\n",
        "X_train, X_test, y_train, y_test = train_test_split(features, df['label'], test_size=0.2)"
      ]
    },
    {
      "cell_type": "code",
      "execution_count": 14,
      "metadata": {
        "colab": {
          "base_uri": "https://localhost:8080/"
        },
        "id": "HrMMF6aUrjyH",
        "outputId": "b36fc1f2-d364-4c41-9b6a-1877d0857cbc"
      },
      "outputs": [
        {
          "output_type": "stream",
          "name": "stdout",
          "text": [
            "(20000, 4531868)\n",
            "(5000, 4531868)\n"
          ]
        }
      ],
      "source": [
        "print(X_train.shape)\n",
        "print(X_test.shape)"
      ]
    },
    {
      "cell_type": "code",
      "source": [
        "# prompt: why the shape contains (20000, 4531868) is it ok to have this much in a good model\n",
        "\n",
        "# The shape of the data is (20000, 4531868) because there are 20,000 data points (rows) and 4,531,868 features (columns).\n",
        "\n",
        "# It is not necessarily bad to have a large number of features in a model, but it can make the model more complex and computationally expensive to train.\n",
        "\n",
        "# There are a few things to consider when deciding whether or not a large number of features is appropriate for a model:\n",
        "\n",
        "# - The size of the dataset: A large number of features can be more appropriate for a large dataset, as there is more data to support the model.\n",
        "# - The complexity of the problem: A large number of features can be more appropriate for a complex problem, as it allows the model to capture more nuanced relationships in the data.\n",
        "# - The computational resources available: Training a model with a large number of features can be computationally expensive, so it is important to consider the available resources.\n",
        "\n",
        "# In this case, the dataset is relatively large (20,000 data points) and the problem is complex (sentiment analysis), so it is not unreasonable to have a large number of features.\n",
        "\n",
        "# However, it is important to note that a large number of features can also lead to overfitting, which is when the model learns the training data too well and does not generalize well to new data.\n",
        "\n",
        "# Therefore, it is important to carefully evaluate the model and ensure that it is not overfitting before deploying it.\n"
      ],
      "metadata": {
        "id": "Qfmd9CeY-a6X"
      },
      "execution_count": null,
      "outputs": []
    },
    {
      "cell_type": "code",
      "execution_count": 16,
      "metadata": {
        "colab": {
          "base_uri": "https://localhost:8080/"
        },
        "id": "CwImLU-7tZPN",
        "outputId": "6a45ec1d-b4f4-4e21-fc70-3ab5897cd488"
      },
      "outputs": [
        {
          "output_type": "stream",
          "name": "stdout",
          "text": [
            "Fitting 5 folds for each of 6 candidates, totalling 30 fits\n",
            "Best Parameters: {'C': 10, 'solver': 'lbfgs'}\n",
            "Logistic Regression Accuracy with GridSearchCV: 0.8778\n"
          ]
        }
      ],
      "source": [
        "\n",
        "# Define parameter grid for Logistic Regression\n",
        "param_grid = {\n",
        "    'C': [0.1, 1, 10],\n",
        "    'solver': ['lbfgs', 'liblinear']\n",
        "}\n",
        "# Initialize and run GridSearchCV\n",
        "grid_search = GridSearchCV(LogisticRegression(max_iter=1000), param_grid, cv=5, n_jobs=-1, verbose=1)\n",
        "grid_search.fit(X_train, y_train)\n",
        "\n",
        "# Retrieve the best model\n",
        "best_model = grid_search.best_estimator_\n",
        "print(f\"Best Parameters: {grid_search.best_params_}\")\n",
        "\n",
        "# Evaluate model accuracy on the test set\n",
        "y_pred = best_model.predict(X_test)\n",
        "accuracy = accuracy_score(y_test, y_pred)\n",
        "print(f\"Logistic Regression Accuracy with GridSearchCV: {accuracy}\")"
      ]
    },
    {
      "cell_type": "code",
      "execution_count": 17,
      "metadata": {
        "colab": {
          "base_uri": "https://localhost:8080/",
          "height": 74
        },
        "id": "05ipWFvYrwQP",
        "outputId": "07b99e48-7dc6-4fa2-b9d7-400d7c56e1f7"
      },
      "outputs": [
        {
          "output_type": "execute_result",
          "data": {
            "text/plain": [
              "LogisticRegression()"
            ],
            "text/html": [
              "<style>#sk-container-id-1 {color: black;background-color: white;}#sk-container-id-1 pre{padding: 0;}#sk-container-id-1 div.sk-toggleable {background-color: white;}#sk-container-id-1 label.sk-toggleable__label {cursor: pointer;display: block;width: 100%;margin-bottom: 0;padding: 0.3em;box-sizing: border-box;text-align: center;}#sk-container-id-1 label.sk-toggleable__label-arrow:before {content: \"▸\";float: left;margin-right: 0.25em;color: #696969;}#sk-container-id-1 label.sk-toggleable__label-arrow:hover:before {color: black;}#sk-container-id-1 div.sk-estimator:hover label.sk-toggleable__label-arrow:before {color: black;}#sk-container-id-1 div.sk-toggleable__content {max-height: 0;max-width: 0;overflow: hidden;text-align: left;background-color: #f0f8ff;}#sk-container-id-1 div.sk-toggleable__content pre {margin: 0.2em;color: black;border-radius: 0.25em;background-color: #f0f8ff;}#sk-container-id-1 input.sk-toggleable__control:checked~div.sk-toggleable__content {max-height: 200px;max-width: 100%;overflow: auto;}#sk-container-id-1 input.sk-toggleable__control:checked~label.sk-toggleable__label-arrow:before {content: \"▾\";}#sk-container-id-1 div.sk-estimator input.sk-toggleable__control:checked~label.sk-toggleable__label {background-color: #d4ebff;}#sk-container-id-1 div.sk-label input.sk-toggleable__control:checked~label.sk-toggleable__label {background-color: #d4ebff;}#sk-container-id-1 input.sk-hidden--visually {border: 0;clip: rect(1px 1px 1px 1px);clip: rect(1px, 1px, 1px, 1px);height: 1px;margin: -1px;overflow: hidden;padding: 0;position: absolute;width: 1px;}#sk-container-id-1 div.sk-estimator {font-family: monospace;background-color: #f0f8ff;border: 1px dotted black;border-radius: 0.25em;box-sizing: border-box;margin-bottom: 0.5em;}#sk-container-id-1 div.sk-estimator:hover {background-color: #d4ebff;}#sk-container-id-1 div.sk-parallel-item::after {content: \"\";width: 100%;border-bottom: 1px solid gray;flex-grow: 1;}#sk-container-id-1 div.sk-label:hover label.sk-toggleable__label {background-color: #d4ebff;}#sk-container-id-1 div.sk-serial::before {content: \"\";position: absolute;border-left: 1px solid gray;box-sizing: border-box;top: 0;bottom: 0;left: 50%;z-index: 0;}#sk-container-id-1 div.sk-serial {display: flex;flex-direction: column;align-items: center;background-color: white;padding-right: 0.2em;padding-left: 0.2em;position: relative;}#sk-container-id-1 div.sk-item {position: relative;z-index: 1;}#sk-container-id-1 div.sk-parallel {display: flex;align-items: stretch;justify-content: center;background-color: white;position: relative;}#sk-container-id-1 div.sk-item::before, #sk-container-id-1 div.sk-parallel-item::before {content: \"\";position: absolute;border-left: 1px solid gray;box-sizing: border-box;top: 0;bottom: 0;left: 50%;z-index: -1;}#sk-container-id-1 div.sk-parallel-item {display: flex;flex-direction: column;z-index: 1;position: relative;background-color: white;}#sk-container-id-1 div.sk-parallel-item:first-child::after {align-self: flex-end;width: 50%;}#sk-container-id-1 div.sk-parallel-item:last-child::after {align-self: flex-start;width: 50%;}#sk-container-id-1 div.sk-parallel-item:only-child::after {width: 0;}#sk-container-id-1 div.sk-dashed-wrapped {border: 1px dashed gray;margin: 0 0.4em 0.5em 0.4em;box-sizing: border-box;padding-bottom: 0.4em;background-color: white;}#sk-container-id-1 div.sk-label label {font-family: monospace;font-weight: bold;display: inline-block;line-height: 1.2em;}#sk-container-id-1 div.sk-label-container {text-align: center;}#sk-container-id-1 div.sk-container {/* jupyter's `normalize.less` sets `[hidden] { display: none; }` but bootstrap.min.css set `[hidden] { display: none !important; }` so we also need the `!important` here to be able to override the default hidden behavior on the sphinx rendered scikit-learn.org. See: https://github.com/scikit-learn/scikit-learn/issues/21755 */display: inline-block !important;position: relative;}#sk-container-id-1 div.sk-text-repr-fallback {display: none;}</style><div id=\"sk-container-id-1\" class=\"sk-top-container\"><div class=\"sk-text-repr-fallback\"><pre>LogisticRegression()</pre><b>In a Jupyter environment, please rerun this cell to show the HTML representation or trust the notebook. <br />On GitHub, the HTML representation is unable to render, please try loading this page with nbviewer.org.</b></div><div class=\"sk-container\" hidden><div class=\"sk-item\"><div class=\"sk-estimator sk-toggleable\"><input class=\"sk-toggleable__control sk-hidden--visually\" id=\"sk-estimator-id-1\" type=\"checkbox\" checked><label for=\"sk-estimator-id-1\" class=\"sk-toggleable__label sk-toggleable__label-arrow\">LogisticRegression</label><div class=\"sk-toggleable__content\"><pre>LogisticRegression()</pre></div></div></div></div></div>"
            ]
          },
          "metadata": {},
          "execution_count": 17
        }
      ],
      "source": [
        "# Train a logistic regression model\n",
        "# model = LogisticRegression()\n",
        "# model.fit(X_train, y_train)"
      ]
    },
    {
      "cell_type": "code",
      "execution_count": 18,
      "metadata": {
        "colab": {
          "base_uri": "https://localhost:8080/"
        },
        "id": "CK6hE7JHr-sS",
        "outputId": "fd47ac59-3e91-4002-993f-d9f696295a12"
      },
      "outputs": [
        {
          "output_type": "stream",
          "name": "stdout",
          "text": [
            "Accuracy: 0.8606\n"
          ]
        }
      ],
      "source": [
        "# Evaluate model accuracy\n",
        "# y_pred = model.predict(X_test)\n",
        "# accuracy = accuracy_score(y_test, y_pred)\n",
        "# print(f\"Accuracy: {accuracy}\")"
      ]
    },
    {
      "cell_type": "code",
      "execution_count": 19,
      "metadata": {
        "id": "FN1iGo1MO8KY",
        "colab": {
          "base_uri": "https://localhost:8080/"
        },
        "outputId": "fba414eb-8676-4162-93a9-f508f5092c3c"
      },
      "outputs": [
        {
          "output_type": "stream",
          "name": "stdout",
          "text": [
            "Logistic Regression Accuracy on Test Data: 0.88172\n"
          ]
        }
      ],
      "source": [
        "\n",
        "# Load test data into DataFrames\n",
        "pos_test_folder = os.path.join('aclImdb', 'test', 'pos')\n",
        "neg_test_folder = os.path.join('aclImdb', 'test', 'neg')\n",
        "\n",
        "# Load data into DataFrames\n",
        "pos_test_df = load_data_from_folder(pos_test_folder, 1)\n",
        "neg_test_df = load_data_from_folder(neg_test_folder, 0)\n",
        "\n",
        "# Combine positive and negative DataFrames\n",
        "test_df = pd.concat([pos_test_df, neg_test_df], ignore_index=True)\n",
        "\n",
        "# Clean text data\n",
        "test_df['cleaned_review'] = test_df['review'].apply(clean_text)\n",
        "\n",
        "# Vectorize test data\n",
        "test_features = vectorizer.transform(test_df['cleaned_review'])\n",
        "\n",
        "# Predict on test data\n",
        "y_pred_test = best_model.predict(test_features)\n",
        "\n",
        "# Evaluate model accuracy on the test set\n",
        "accuracy_test = accuracy_score(test_df['label'], y_pred_test)\n",
        "print(f\"Logistic Regression Accuracy on Test Data: {accuracy_test}\")\n"
      ]
    },
    {
      "cell_type": "code",
      "source": [],
      "metadata": {
        "id": "6xWRnYjfAYQ0"
      },
      "execution_count": null,
      "outputs": []
    }
  ],
  "metadata": {
    "colab": {
      "provenance": [],
      "authorship_tag": "ABX9TyP6lX9FeSeQOk2K280B0WyQ",
      "include_colab_link": true
    },
    "kernelspec": {
      "display_name": "Python 3",
      "name": "python3"
    },
    "language_info": {
      "name": "python"
    }
  },
  "nbformat": 4,
  "nbformat_minor": 0
}